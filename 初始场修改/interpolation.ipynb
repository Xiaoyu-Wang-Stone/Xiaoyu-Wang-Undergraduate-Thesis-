{
 "cells": [
  {
   "cell_type": "code",
   "execution_count": 3,
   "metadata": {},
   "outputs": [
    {
     "ename": "FileNotFoundError",
     "evalue": "[Errno 2] No such file or directory: b'/Users/wangxiaoyu/Desktop/testwxy.tar/testwxy.cam2.h0.0180-0200-01.nc'",
     "output_type": "error",
     "traceback": [
      "\u001b[0;31m---------------------------------------------------------------------------\u001b[0m",
      "\u001b[0;31mFileNotFoundError\u001b[0m                         Traceback (most recent call last)",
      "\u001b[0;32m<ipython-input-3-3ebe5969422f>\u001b[0m in \u001b[0;36m<module>\u001b[0;34m\u001b[0m\n\u001b[1;32m      5\u001b[0m \u001b[0msst\u001b[0m \u001b[0;34m=\u001b[0m \u001b[0msst\u001b[0m \u001b[0;34m-\u001b[0m \u001b[0msst\u001b[0m\u001b[0;34m\u001b[0m\u001b[0;34m\u001b[0m\u001b[0m\n\u001b[1;32m      6\u001b[0m \u001b[0;34m\u001b[0m\u001b[0m\n\u001b[0;32m----> 7\u001b[0;31m \u001b[0mfile_1\u001b[0m \u001b[0;34m=\u001b[0m \u001b[0mDataset\u001b[0m\u001b[0;34m(\u001b[0m\u001b[0;34m'/Users/wangxiaoyu/Desktop/testwxy.tar/testwxy.cam2.h0.0180-0200-01.nc'\u001b[0m\u001b[0;34m,\u001b[0m \u001b[0mmode\u001b[0m \u001b[0;34m=\u001b[0m \u001b[0;34m'a'\u001b[0m\u001b[0;34m)\u001b[0m\u001b[0;34m\u001b[0m\u001b[0;34m\u001b[0m\u001b[0m\n\u001b[0m\u001b[1;32m      8\u001b[0m \u001b[0mfile_2\u001b[0m \u001b[0;34m=\u001b[0m \u001b[0mDataset\u001b[0m\u001b[0;34m(\u001b[0m\u001b[0;34m'/Users/wangxiaoyu/Desktop/testwxy.tar/testwxy.cam2.h0.0180-0200-02.nc'\u001b[0m\u001b[0;34m,\u001b[0m \u001b[0mmode\u001b[0m \u001b[0;34m=\u001b[0m \u001b[0;34m'a'\u001b[0m\u001b[0;34m)\u001b[0m\u001b[0;34m\u001b[0m\u001b[0;34m\u001b[0m\u001b[0m\n\u001b[1;32m      9\u001b[0m \u001b[0mfile_3\u001b[0m \u001b[0;34m=\u001b[0m \u001b[0mDataset\u001b[0m\u001b[0;34m(\u001b[0m\u001b[0;34m'/Users/wangxiaoyu/Documents/testwxy.tar/testwxy.cam2.h0.0180-0200-03.nc'\u001b[0m\u001b[0;34m,\u001b[0m \u001b[0mmode\u001b[0m \u001b[0;34m=\u001b[0m \u001b[0;34m'a'\u001b[0m\u001b[0;34m)\u001b[0m\u001b[0;34m\u001b[0m\u001b[0;34m\u001b[0m\u001b[0m\n",
      "\u001b[0;32mnetCDF4/_netCDF4.pyx\u001b[0m in \u001b[0;36mnetCDF4._netCDF4.Dataset.__init__\u001b[0;34m()\u001b[0m\n",
      "\u001b[0;32mnetCDF4/_netCDF4.pyx\u001b[0m in \u001b[0;36mnetCDF4._netCDF4._ensure_nc_success\u001b[0;34m()\u001b[0m\n",
      "\u001b[0;31mFileNotFoundError\u001b[0m: [Errno 2] No such file or directory: b'/Users/wangxiaoyu/Desktop/testwxy.tar/testwxy.cam2.h0.0180-0200-01.nc'"
     ]
    }
   ],
   "source": [
    "import numpy as np\n",
    "from netCDF4 import Dataset\n",
    "file_test = Dataset('/Users/wangxiaoyu/Desktop/sst_test.nc', mode = 'a')\n",
    "sst = file_test.variables['SST_cpl'][:]\n",
    "sst = sst - sst\n",
    "\n",
    "file_1 = Dataset('/Users/wangxiaoyu/Desktop/testwxy.tar/testwxy.cam2.h0.0180-0200-01.nc', mode = 'a')\n",
    "file_2 = Dataset('/Users/wangxiaoyu/Desktop/testwxy.tar/testwxy.cam2.h0.0180-0200-02.nc', mode = 'a')\n",
    "file_3 = Dataset('/Users/wangxiaoyu/Documents/testwxy.tar/testwxy.cam2.h0.0180-0200-03.nc', mode = 'a')\n",
    "file_4 = Dataset('/Users/wangxiaoyu/Documents/testwxy.tar/testwxy.cam2.h0.0180-0200-04.nc', mode = 'a')\n",
    "file_5 = Dataset('/Users/wangxiaoyu/Documents/testwxy.tar/testwxy.cam2.h0.0180-0200-05.nc', mode = 'a')\n",
    "file_6 = Dataset('/Users/wangxiaoyu/Documents/testwxy.tar/testwxy.cam2.h0.0180-0200-06.nc', mode = 'a')\n",
    "file_7 = Dataset('/Users/wangxiaoyu/Documents/testwxy.tar/testwxy.cam2.h0.0180-0200-07.nc', mode = 'a')\n",
    "file_8 = Dataset('/Users/wangxiaoyu/Documents/testwxy.tar/testwxy.cam2.h0.0180-0200-08.nc', mode = 'a')\n",
    "file_9 = Dataset('/Users/wangxiaoyu/Documents/testwxy.tar/testwxy.cam2.h0.0180-0200-09.nc', mode = 'a')\n",
    "file_10 = Dataset('/Users/wangxiaoyu/Documents/testwxy.tar/testwxy.cam2.h0.0180-0200-10.nc', mode = 'a')\n",
    "file_11 = Dataset('/Users/wangxiaoyu/Documents/testwxy.tar/testwxy.cam2.h0.0180-0200-11.nc', mode = 'a')\n",
    "file_12 = Dataset('/Users/wangxiaoyu/Documents/testwxy.tar/testwxy.cam2.h0.0180-0200-12.nc', mode = 'a')\n",
    "SST_1 = file_1.variables['TS'][:]\n",
    "SST_2 = file_2.variables['TS'][:]\n",
    "SST_3 = file_3.variables['TS'][:]\n",
    "SST_4 = file_4.variables['TS'][:]\n",
    "SST_5 = file_5.variables['TS'][:]\n",
    "SST_6 = file_6.variables['TS'][:]\n",
    "SST_7 = file_7.variables['TS'][:]\n",
    "SST_8 = file_8.variables['TS'][:]\n",
    "SST_9 = file_9.variables['TS'][:]\n",
    "SST_10 = file_10.variables['TS'][:]\n",
    "SST_11 = file_11.variables['TS'][:]\n",
    "SST_12 = file_12.variables['TS'][:]\n",
    "SST = np.vstack((SST_1,SST_2,SST_3,SST_4,SST_5,SST_6,SST_7,SST_8,SST_9,SST_10,SST_11,SST_12))\n",
    "SST = SST - 273.15\n",
    "\n",
    "month = 0\n",
    "while month < 12:\n",
    "    lat = 0\n",
    "    while lat < 48:\n",
    "        j = 0\n",
    "        while j < 48:   \n",
    "            sst[month][2*lat+1][3*j] = SST[month][lat][2*j]    \n",
    "            sst[month][2*lat+1][3*j+1] = SST[month][lat][2*j+1]\n",
    "            j = j + 1\n",
    "            \n",
    "        sst[month][0]=sst[month][1]\n",
    "            \n",
    "        i = 0\n",
    "        while i < 47:\n",
    "            sst[month][2*lat+1][3*i+2] = 0.5*(sst[month][2*lat+1][3*i+1]+sst[month][2*lat+1][3*i+3])\n",
    "            i = i + 1\n",
    "        sst[month][2*lat+1][143] = 0.5*(sst[month][2*lat+1][0]+sst[month][2*lat+1][142])\n",
    "        \n",
    "        k = 1\n",
    "        while k < 48:\n",
    "            sst[month][2*k] = 0.5*(sst[month][2*k-1]+sst[month][2*k+1])\n",
    "            k = k + 1\n",
    "       \n",
    "        lat = lat + 1 \n",
    "    month = month + 1\n",
    "    \n",
    "file_setting = Dataset('/Users/wangxiaoyu/Desktop/sst_test.nc', mode = 'a')\n",
    "file_setting.variables['SST_cpl'][:] = sst[:]\n",
    "file_setting.variables['SST_cpl_prediddle'][:] = sst[:]\n",
    "file_setting.close()"
   ]
  },
  {
   "cell_type": "code",
   "execution_count": null,
   "metadata": {},
   "outputs": [],
   "source": []
  },
  {
   "cell_type": "code",
   "execution_count": null,
   "metadata": {},
   "outputs": [],
   "source": []
  },
  {
   "cell_type": "code",
   "execution_count": null,
   "metadata": {},
   "outputs": [],
   "source": []
  }
 ],
 "metadata": {
  "kernelspec": {
   "display_name": "Python 3",
   "language": "python",
   "name": "python3"
  },
  "language_info": {
   "codemirror_mode": {
    "name": "ipython",
    "version": 3
   },
   "file_extension": ".py",
   "mimetype": "text/x-python",
   "name": "python",
   "nbconvert_exporter": "python",
   "pygments_lexer": "ipython3",
   "version": "3.7.4"
  }
 },
 "nbformat": 4,
 "nbformat_minor": 4
}
